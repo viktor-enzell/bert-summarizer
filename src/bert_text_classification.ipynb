{
 "cells": [
  {
   "cell_type": "markdown",
   "metadata": {},
   "source": [
    "## Run imports and set variables"
   ]
  },
  {
   "cell_type": "code",
   "execution_count": 41,
   "metadata": {},
   "outputs": [],
   "source": [
    "import tensorflow as tf\n",
    "import tensorflow_hub as hub\n",
    "import tensorflow_datasets as tfds\n",
    "import tensorflow_text\n",
    "import datetime"
   ]
  },
  {
   "cell_type": "code",
   "execution_count": 52,
   "metadata": {},
   "outputs": [],
   "source": [
    "bert_model_path = 'https://tfhub.dev/tensorflow/small_bert/bert_en_uncased_L-2_H-128_A-2/2'\n",
    "bert_preprocessing_path = 'https://tfhub.dev/tensorflow/bert_en_uncased_preprocess/3'\n",
    "\n",
    "model_path = '../models/bert1'\n",
    "\n",
    "batch_size = 32\n",
    "num_epochs = 3\n",
    "percent_train_data = 10"
   ]
  },
  {
   "cell_type": "markdown",
   "metadata": {},
   "source": [
    "## Import data\n",
    "Import the dataset from Tensorflow Hub and split it into train and test sets."
   ]
  },
  {
   "cell_type": "code",
   "execution_count": 43,
   "metadata": {
    "trusted": true
   },
   "outputs": [],
   "source": [
    "train_data, test_data = tfds.load(\n",
    "    name='ag_news_subset',\n",
    "    split=(f'train[:{percent_train_data}%]', 'test'),\n",
    "    shuffle_files=True,\n",
    "    as_supervised=True,\n",
    "    batch_size=batch_size\n",
    ")\n"
   ]
  },
  {
   "cell_type": "markdown",
   "metadata": {},
   "source": [
    "## Import BERT model and preprocessing handler"
   ]
  },
  {
   "cell_type": "code",
   "execution_count": 44,
   "metadata": {
    "trusted": true
   },
   "outputs": [],
   "source": [
    "bert_preprocessing = hub.KerasLayer(bert_preprocessing_path, name='preprocessing')\n",
    "bert = hub.KerasLayer(bert_model_path, trainable=True, name = 'BERT')"
   ]
  },
  {
   "cell_type": "markdown",
   "metadata": {},
   "source": [
    "## Build the model\n",
    "We create a function to define and compile the NN with the pretrained BERT model."
   ]
  },
  {
   "cell_type": "code",
   "execution_count": 45,
   "metadata": {},
   "outputs": [
    {
     "name": "stdout",
     "output_type": "stream",
     "text": [
      "Model: \"model_4\"\n",
      "__________________________________________________________________________________________________\n",
      "Layer (type)                    Output Shape         Param #     Connected to                     \n",
      "==================================================================================================\n",
      "description (InputLayer)        [(None,)]            0                                            \n",
      "__________________________________________________________________________________________________\n",
      "preprocessing (KerasLayer)      {'input_type_ids': ( 0           description[0][0]                \n",
      "__________________________________________________________________________________________________\n",
      "BERT (KerasLayer)               {'pooled_output': (N 4385921     preprocessing[0][0]              \n",
      "                                                                 preprocessing[0][1]              \n",
      "                                                                 preprocessing[0][2]              \n",
      "__________________________________________________________________________________________________\n",
      "dense_4 (Dense)                 (None, 4)            516         BERT[0][3]                       \n",
      "==================================================================================================\n",
      "Total params: 4,386,437\n",
      "Trainable params: 4,386,436\n",
      "Non-trainable params: 1\n",
      "__________________________________________________________________________________________________\n"
     ]
    }
   ],
   "source": [
    "def build_model():\n",
    "    text_input = tf.keras.layers.Input(shape=(), dtype=tf.string, name='description')\n",
    "    encoder_inputs = bert_preprocessing(text_input)\n",
    "    outputs = bert(encoder_inputs)\n",
    "\n",
    "    # Only retrieve the outputs from the corresponding [CLS] token\n",
    "    net = outputs['pooled_output']\n",
    "\n",
    "    # Additional layers for classification\n",
    "    net = tf.keras.layers.Dense(4, activation='softmax')(net)\n",
    "\n",
    "    # Build and compile the model\n",
    "    model = tf.keras.Model(text_input, net)\n",
    "    model.compile(\n",
    "        optimizer='Adam',\n",
    "        loss='SparseCategoricalCrossentropy',\n",
    "        metrics=[tf.keras.metrics.SparseCategoricalAccuracy()]\n",
    "    )\n",
    "\n",
    "    return model\n",
    "\n",
    "\n",
    "model = build_model()\n",
    "model.summary()\n"
   ]
  },
  {
   "cell_type": "markdown",
   "metadata": {},
   "source": [
    "## Train the model\n",
    "Now that the model is compiled, we can train on our data. We use early stopping to prevent overfitting"
   ]
  },
  {
   "cell_type": "code",
   "execution_count": 55,
   "metadata": {},
   "outputs": [
    {
     "data": {
      "text/html": [
       "\n",
       "      <iframe id=\"tensorboard-frame-bc9ba7061b858d39\" width=\"100%\" height=\"800\" frameborder=\"0\">\n",
       "      </iframe>\n",
       "      <script>\n",
       "        (function() {\n",
       "          const frame = document.getElementById(\"tensorboard-frame-bc9ba7061b858d39\");\n",
       "          const url = new URL(\"/\", window.location);\n",
       "          const port = 6006;\n",
       "          if (port) {\n",
       "            url.port = port;\n",
       "          }\n",
       "          frame.src = url;\n",
       "        })();\n",
       "      </script>\n",
       "    "
      ],
      "text/plain": [
       "<IPython.core.display.HTML object>"
      ]
     },
     "metadata": {},
     "output_type": "display_data"
    }
   ],
   "source": [
    "# Load the TensorBoard notebook extension\n",
    "%load_ext tensorboard\n",
    "\n",
    "%tensorboard --logdir logs/fit"
   ]
  },
  {
   "cell_type": "code",
   "execution_count": 56,
   "metadata": {
    "trusted": true
   },
   "outputs": [
    {
     "name": "stderr",
     "output_type": "stream",
     "text": [
      "2021-11-18 15:22:37.004170: I tensorflow/core/profiler/lib/profiler_session.cc:131] Profiler session initializing.\n",
      "2021-11-18 15:22:37.004222: I tensorflow/core/profiler/lib/profiler_session.cc:146] Profiler session started.\n",
      "2021-11-18 15:22:37.006286: I tensorflow/core/profiler/lib/profiler_session.cc:164] Profiler session tear down.\n"
     ]
    },
    {
     "name": "stdout",
     "output_type": "stream",
     "text": [
      "Epoch 1/3\n",
      "  1/375 [..............................] - ETA: 28:30 - loss: 0.0732 - sparse_categorical_accuracy: 0.9688"
     ]
    },
    {
     "name": "stderr",
     "output_type": "stream",
     "text": [
      "2021-11-18 15:22:42.112628: I tensorflow/core/profiler/lib/profiler_session.cc:131] Profiler session initializing.\n",
      "2021-11-18 15:22:42.112646: I tensorflow/core/profiler/lib/profiler_session.cc:146] Profiler session started.\n"
     ]
    },
    {
     "name": "stdout",
     "output_type": "stream",
     "text": [
      "  2/375 [..............................] - ETA: 3:34 - loss: 0.1769 - sparse_categorical_accuracy: 0.9375 "
     ]
    },
    {
     "name": "stderr",
     "output_type": "stream",
     "text": [
      "2021-11-18 15:22:42.858386: I tensorflow/core/profiler/lib/profiler_session.cc:66] Profiler session collecting data.\n",
      "2021-11-18 15:22:42.880274: I tensorflow/core/profiler/lib/profiler_session.cc:164] Profiler session tear down.\n",
      "2021-11-18 15:22:42.902728: I tensorflow/core/profiler/rpc/client/save_profile.cc:136] Creating directory: logs/fit/20211118-152236/train/plugins/profile/2021_11_18_15_22_42\n",
      "\n",
      "2021-11-18 15:22:42.912826: I tensorflow/core/profiler/rpc/client/save_profile.cc:142] Dumped gzipped tool data for trace.json.gz to logs/fit/20211118-152236/train/plugins/profile/2021_11_18_15_22_42/10-192-242-225client.eduroam.upc.edu.trace.json.gz\n",
      "2021-11-18 15:22:42.950937: I tensorflow/core/profiler/rpc/client/save_profile.cc:136] Creating directory: logs/fit/20211118-152236/train/plugins/profile/2021_11_18_15_22_42\n",
      "\n",
      "2021-11-18 15:22:42.951186: I tensorflow/core/profiler/rpc/client/save_profile.cc:142] Dumped gzipped tool data for memory_profile.json.gz to logs/fit/20211118-152236/train/plugins/profile/2021_11_18_15_22_42/10-192-242-225client.eduroam.upc.edu.memory_profile.json.gz\n",
      "2021-11-18 15:22:42.954918: I tensorflow/core/profiler/rpc/client/capture_profile.cc:251] Creating directory: logs/fit/20211118-152236/train/plugins/profile/2021_11_18_15_22_42\n",
      "Dumped tool data for xplane.pb to logs/fit/20211118-152236/train/plugins/profile/2021_11_18_15_22_42/10-192-242-225client.eduroam.upc.edu.xplane.pb\n",
      "Dumped tool data for overview_page.pb to logs/fit/20211118-152236/train/plugins/profile/2021_11_18_15_22_42/10-192-242-225client.eduroam.upc.edu.overview_page.pb\n",
      "Dumped tool data for input_pipeline.pb to logs/fit/20211118-152236/train/plugins/profile/2021_11_18_15_22_42/10-192-242-225client.eduroam.upc.edu.input_pipeline.pb\n",
      "Dumped tool data for tensorflow_stats.pb to logs/fit/20211118-152236/train/plugins/profile/2021_11_18_15_22_42/10-192-242-225client.eduroam.upc.edu.tensorflow_stats.pb\n",
      "Dumped tool data for kernel_stats.pb to logs/fit/20211118-152236/train/plugins/profile/2021_11_18_15_22_42/10-192-242-225client.eduroam.upc.edu.kernel_stats.pb\n",
      "\n"
     ]
    },
    {
     "name": "stdout",
     "output_type": "stream",
     "text": [
      "375/375 [==============================] - 111s 284ms/step - loss: 0.1134 - sparse_categorical_accuracy: 0.9672 - val_loss: 0.5266 - val_sparse_categorical_accuracy: 0.8625\n",
      "Epoch 2/3\n",
      "375/375 [==============================] - 100s 267ms/step - loss: 0.0568 - sparse_categorical_accuracy: 0.9818 - val_loss: 0.7028 - val_sparse_categorical_accuracy: 0.8647\n",
      "Epoch 3/3\n",
      "375/375 [==============================] - 104s 276ms/step - loss: 0.0417 - sparse_categorical_accuracy: 0.9881 - val_loss: 0.6956 - val_sparse_categorical_accuracy: 0.8659\n"
     ]
    }
   ],
   "source": [
    "earlystopping_callback = tf.keras.callbacks.EarlyStopping(\n",
    "    monitor='val_sparse_categorical_accuracy', \n",
    "    patience=3, \n",
    "    verbose=1\n",
    ")\n",
    "\n",
    "tensorboard_callback = tf.keras.callbacks.TensorBoard(\n",
    "    log_dir='logs/fit/' + datetime.datetime.now().strftime('%Y%m%d-%H%M%S'), \n",
    "    histogram_freq=1, \n",
    "    update_freq='batch'\n",
    ")\n",
    "\n",
    "history = model.fit(\n",
    "    x=train_data,\n",
    "    validation_data=test_data,\n",
    "    epochs=num_epochs,\n",
    "    callbacks=[earlystopping_callback, tensorboard_callback],\n",
    "    batch_size=batch_size,\n",
    "    verbose=1\n",
    ")\n"
   ]
  },
  {
   "cell_type": "code",
   "execution_count": null,
   "outputs": [],
   "source": [
    "import matplotlib.pyplot as plt\n",
    "model.predict(['i play a lot of fotball, sports is nice, who scored most goals'])"
   ],
   "metadata": {
    "collapsed": false,
    "pycharm": {
     "name": "#%%\n"
    }
   }
  },
  {
   "cell_type": "code",
   "execution_count": null,
   "outputs": [],
   "source": [
    "model.save(model_path)"
   ],
   "metadata": {
    "collapsed": false,
    "pycharm": {
     "name": "#%%\n"
    }
   }
  },
  {
   "cell_type": "code",
   "execution_count": null,
   "outputs": [],
   "source": [
    "model = tf.keras.models.load_model(model_path)"
   ],
   "metadata": {
    "collapsed": false,
    "pycharm": {
     "name": "#%%\n"
    }
   }
  }
 ],
 "metadata": {
  "kernelspec": {
   "display_name": "Python 3",
   "language": "python",
   "name": "python3"
  },
  "language_info": {
   "codemirror_mode": {
    "name": "ipython",
    "version": 3
   },
   "file_extension": ".py",
   "mimetype": "text/x-python",
   "name": "python",
   "nbconvert_exporter": "python",
   "pygments_lexer": "ipython3",
   "version": "3.9.4"
  }
 },
 "nbformat": 4,
 "nbformat_minor": 4
}