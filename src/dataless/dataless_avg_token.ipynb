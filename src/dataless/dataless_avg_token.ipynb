{
 "cells": [
  {
   "cell_type": "code",
   "execution_count": 19,
   "metadata": {},
   "outputs": [],
   "source": [
    "import pandas as pd\n",
    "import numpy as np\n",
    "\n",
    "# Read n rows from the embedded data\n",
    "cls_df = pd.read_csv('../../data/articles_cls_token.csv')\n",
    "avg_df = pd.read_csv('../../data/articles_avg_token.csv')\n",
    "cls_label_vectors = pd.read_csv('../../data/categories_cls_token.csv')\n",
    "avg_label_vectors = pd.read_csv('../../data/categories_avg_token.csv')\n",
    "\n",
    "X_cls = cls_df.iloc[: , :-1]\n",
    "y_cls = cls_df.iloc[: , -1]\n",
    "\n",
    "X_avg = avg_df.iloc[: , :-1]\n",
    "y_avg = avg_df.iloc[: , -1]"
   ]
  },
  {
   "cell_type": "code",
   "execution_count": 20,
   "metadata": {},
   "outputs": [
    {
     "name": "stdout",
     "output_type": "stream",
     "text": [
      "Accuracy with cls token: 0.33741666666666664\n",
      "Accuracy with avraged token: 0.6553333333333333\n"
     ]
    }
   ],
   "source": [
    "from sklearn.metrics.pairwise import cosine_similarity as cs\n",
    "from sklearn.metrics import accuracy_score as acc_score\n",
    "\n",
    "cls_pred = np.argmax(cs(X_cls, cls_label_vectors), axis = 1)\n",
    "print(\"Accuracy with cls token:\", acc_score(y_cls, cls_pred))\n",
    "\n",
    "avg_pred = np.argmax(cs(X_avg, avg_label_vectors), axis = 1)\n",
    "print(\"Accuracy with avraged token:\", acc_score(y_avg, avg_pred))"
   ]
  }
 ],
 "metadata": {
  "interpreter": {
   "hash": "05670d60c7d382de5afdc06056b1506cbf442734a10c1850b42e7fcab5ceb50e"
  },
  "kernelspec": {
   "display_name": "Python 3.8.6 64-bit",
   "language": "python",
   "name": "python3"
  },
  "language_info": {
   "codemirror_mode": {
    "name": "ipython",
    "version": 3
   },
   "file_extension": ".py",
   "mimetype": "text/x-python",
   "name": "python",
   "nbconvert_exporter": "python",
   "pygments_lexer": "ipython3",
   "version": "3.8.6"
  },
  "orig_nbformat": 4
 },
 "nbformat": 4,
 "nbformat_minor": 2
}
