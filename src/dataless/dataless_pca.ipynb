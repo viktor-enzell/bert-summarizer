{
 "cells": [
  {
   "cell_type": "code",
   "execution_count": 1,
   "metadata": {},
   "outputs": [],
   "source": [
    "import pandas as pd\n",
    "\n",
    "# Read n rows from the embedded data\n",
    "df = pd.read_csv('../data/articles_avg_token.csv')\n",
    "label_vectors = pd.read_csv('../data/categories_avg_synonym.csv')\n",
    "\n",
    "X = df.iloc[: , :-1]\n",
    "y = df.iloc[: , -1]"
   ]
  },
  {
   "cell_type": "code",
   "execution_count": 2,
   "metadata": {},
   "outputs": [
    {
     "name": "stdout",
     "output_type": "stream",
     "text": [
      "Accuracy with kmeans clustering\n",
      "0.809\n",
      "Accuracy with kmeans clustering using PCA\n",
      "0.813\n"
     ]
    },
    {
     "name": "stderr",
     "output_type": "stream",
     "text": [
      "C:\\Users\\adamv\\AppData\\Local\\Programs\\Python\\Python38\\lib\\site-packages\\sklearn\\cluster\\_kmeans.py:1148: RuntimeWarning: Explicit initial center position passed: performing only one init in KMeans instead of n_init=10.\n",
      "  self._check_params(X)\n",
      "C:\\Users\\adamv\\AppData\\Local\\Programs\\Python\\Python38\\lib\\site-packages\\sklearn\\cluster\\_kmeans.py:1148: RuntimeWarning: Explicit initial center position passed: performing only one init in KMeans instead of n_init=10.\n",
      "  self._check_params(X)\n"
     ]
    }
   ],
   "source": [
    "from sklearn.decomposition import PCA\n",
    "from kmeans_predictions import kmeans_pred\n",
    "import numpy as np\n",
    "\n",
    "pca = PCA(n_components=16)\n",
    "pca_data = pca.fit_transform(np.append(X, label_vectors, axis=0))\n",
    "X_pca = pca_data[:-4,:]\n",
    "labels_pca = pca_data[-4:,:]\n",
    "\n",
    "print(\"Accuracy with kmeans clustering\")\n",
    "kmeans_labels = kmeans_pred(X,y, label_vectors, len(label_vectors));\n",
    "\n",
    "print(\"Accuracy with kmeans clustering using PCA\")\n",
    "kmeans_pred(X_pca,y, labels_pca, len(label_vectors));\n"
   ]
  }
 ],
 "metadata": {
  "interpreter": {
   "hash": "05670d60c7d382de5afdc06056b1506cbf442734a10c1850b42e7fcab5ceb50e"
  },
  "kernelspec": {
   "display_name": "Python 3.8.6 64-bit",
   "language": "python",
   "name": "python3"
  },
  "language_info": {
   "codemirror_mode": {
    "name": "ipython",
    "version": 3
   },
   "file_extension": ".py",
   "mimetype": "text/x-python",
   "name": "python",
   "nbconvert_exporter": "python",
   "pygments_lexer": "ipython3",
   "version": "3.8.6"
  },
  "orig_nbformat": 4
 },
 "nbformat": 4,
 "nbformat_minor": 2
}
