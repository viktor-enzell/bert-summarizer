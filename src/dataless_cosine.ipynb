{
 "cells": [
  {
   "cell_type": "code",
   "execution_count": 16,
   "metadata": {},
   "outputs": [],
   "source": [
    "import pandas as pd\n",
    "import numpy as np\n",
    "\n",
    "# Read n rows from the embedded data\n",
    "df = pd.read_csv('../data/vec_avg_token_data.csv')\n",
    "label_vectors = pd.read_csv('../data/label_token_embeddings.csv')\n",
    "\n",
    "X = df.iloc[: , :-1]\n",
    "y = df.iloc[: , -1]"
   ]
  },
  {
   "cell_type": "code",
   "execution_count": 31,
   "metadata": {},
   "outputs": [
    {
     "name": "stdout",
     "output_type": "stream",
     "text": [
      "Accuracy score using min ecludian distancea: 0.511\n",
      "Accuracy score using maximum cosine similarity: 0.511\n"
     ]
    }
   ],
   "source": [
    "from sklearn.metrics.pairwise import cosine_similarity as cs, euclidean_distances as ed\n",
    "from sklearn.metrics import accuracy_score as acc_score\n",
    "\n",
    "ecludian_pred = np.argmin(ed(X, label_vectors), axis = 1)\n",
    "print(\"Accuracy score using min ecludian distancea:\", acc_score(y,ecludian_pred))\n",
    "\n",
    "cosine_pred = np.argmax(cs(X, label_vectors), axis = 1)\n",
    "print(\"Accuracy score using maximum cosine similarity:\", acc_score(y,ecludian_pred))"
   ]
  }
 ],
 "metadata": {
  "interpreter": {
   "hash": "05670d60c7d382de5afdc06056b1506cbf442734a10c1850b42e7fcab5ceb50e"
  },
  "kernelspec": {
   "display_name": "Python 3.8.6 64-bit",
   "language": "python",
   "name": "python3"
  },
  "language_info": {
   "codemirror_mode": {
    "name": "ipython",
    "version": 3
   },
   "file_extension": ".py",
   "mimetype": "text/x-python",
   "name": "python",
   "nbconvert_exporter": "python",
   "pygments_lexer": "ipython3",
   "version": "3.8.6"
  },
  "orig_nbformat": 4
 },
 "nbformat": 4,
 "nbformat_minor": 2
}
