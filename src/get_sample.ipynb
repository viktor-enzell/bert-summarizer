{
 "cells": [
  {
   "cell_type": "code",
   "execution_count": 72,
   "metadata": {},
   "outputs": [],
   "source": [
    "import tensorflow as tf\n",
    "import tensorflow_hub as hub\n",
    "import tensorflow_datasets as tfds\n",
    "import tensorflow_text\n",
    "import datetime\n",
    "from scipy import spatial\n",
    "import numpy as np"
   ]
  },
  {
   "cell_type": "code",
   "execution_count": 5,
   "metadata": {},
   "outputs": [],
   "source": [
    "bert_model_path = 'https://tfhub.dev/tensorflow/small_bert/bert_en_uncased_L-2_H-128_A-2/2'\n",
    "bert_preprocessing_path = 'https://tfhub.dev/tensorflow/bert_en_uncased_preprocess/3'"
   ]
  },
  {
   "cell_type": "code",
   "execution_count": 73,
   "metadata": {},
   "outputs": [
    {
     "name": "stderr",
     "output_type": "stream",
     "text": [
      "INFO:absl:Load dataset info from /Users/viktorenzell/tensorflow_datasets/ag_news_subset/1.0.0\n",
      "INFO:absl:Reusing dataset ag_news_subset (/Users/viktorenzell/tensorflow_datasets/ag_news_subset/1.0.0)\n",
      "INFO:absl:Constructing tf.data.Dataset ag_news_subset for split ('train', 'test'), from /Users/viktorenzell/tensorflow_datasets/ag_news_subset/1.0.0\n"
     ]
    }
   ],
   "source": [
    "train_data, test_data = tfds.load(\n",
    "    name='ag_news_subset',\n",
    "    split=(f'train', 'test'),\n",
    "    shuffle_files=True,\n",
    "    as_supervised=True,\n",
    "    batch_size=120000\n",
    ")"
   ]
  },
  {
   "cell_type": "code",
   "execution_count": 74,
   "metadata": {},
   "outputs": [],
   "source": [
    "bert_preprocessing = hub.KerasLayer(bert_preprocessing_path, name='preprocessing')\n",
    "bert = hub.KerasLayer(bert_model_path, trainable=False, name = 'BERT')"
   ]
  },
  {
   "cell_type": "code",
   "execution_count": 75,
   "metadata": {},
   "outputs": [
    {
     "name": "stdout",
     "output_type": "stream",
     "text": [
      "Model: \"model_2\"\n",
      "__________________________________________________________________________________________________\n",
      "Layer (type)                    Output Shape         Param #     Connected to                     \n",
      "==================================================================================================\n",
      "description (InputLayer)        [(None,)]            0                                            \n",
      "__________________________________________________________________________________________________\n",
      "preprocessing (KerasLayer)      {'input_type_ids': ( 0           description[0][0]                \n",
      "__________________________________________________________________________________________________\n",
      "BERT (KerasLayer)               {'pooled_output': (N 4385921     preprocessing[0][0]              \n",
      "                                                                 preprocessing[0][1]              \n",
      "                                                                 preprocessing[0][2]              \n",
      "==================================================================================================\n",
      "Total params: 4,385,921\n",
      "Trainable params: 0\n",
      "Non-trainable params: 4,385,921\n",
      "__________________________________________________________________________________________________\n"
     ]
    }
   ],
   "source": [
    "def build_model():\n",
    "    text_input = tf.keras.layers.Input(shape=(), dtype=tf.string, name='description')\n",
    "    encoder_inputs = bert_preprocessing(text_input)\n",
    "    outputs = bert(encoder_inputs)\n",
    "\n",
    "    # Only retrieve the outputs from the corresponding [CLS] token\n",
    "    # Build and compile the model\n",
    "    model = tf.keras.Model(text_input, outputs['pooled_output'])\n",
    "    model.compile(\n",
    "        optimizer='Adam',\n",
    "        loss='SparseCategoricalCrossentropy',\n",
    "        metrics=[tf.keras.metrics.SparseCategoricalAccuracy()]\n",
    "    )\n",
    "\n",
    "    return model\n",
    "\n",
    "\n",
    "model = build_model()\n",
    "model.summary()"
   ]
  },
  {
   "cell_type": "code",
   "execution_count": 76,
   "metadata": {},
   "outputs": [],
   "source": [
    "all_data = train_data.__iter__().get_next()\n",
    "samples = all_data[0].numpy()\n",
    "labels = all_data[1].numpy()\n",
    "\n",
    "def get_sample(i):\n",
    "    label_names = 'World', 'Sports', 'Business', 'Schience and Technology'\n",
    "    return samples[i], labels[i], label_names[labels[i]]\n"
   ]
  },
  {
   "cell_type": "code",
   "execution_count": 81,
   "metadata": {},
   "outputs": [
    {
     "name": "stdout",
     "output_type": "stream",
     "text": [
      "Schience and Technology b'AMD #39;s new dual-core Opteron chip is designed mainly for corporate computing applications, including databases, Web services, and financial transactions.'\n",
      "\n",
      "World b'Witnesses in the trial of a US soldier charged with abusing prisoners at Abu Ghraib have told the court that the CIA sometimes directed abuse and orders were received from military command to toughen interrogations.'\n",
      "\n",
      "0.712\n"
     ]
    }
   ],
   "source": [
    "# Comparing two samples\n",
    "\n",
    "a, al, an = get_sample(0)\n",
    "b, bl, bn = get_sample(8)\n",
    "\n",
    "va = model.predict([a])\n",
    "vb = model.predict([b])\n",
    "\n",
    "sim = 1 - spatial.distance.cosine(va, vb)\n",
    "\n",
    "print(an, a)\n",
    "print()\n",
    "print(bn, b)\n",
    "print()\n",
    "print(round(sim, 3))"
   ]
  }
 ],
 "metadata": {
  "interpreter": {
   "hash": "05027191b138f41f3a3ce51d90f6c7168b5678add389de47d7efac856dc8b51a"
  },
  "kernelspec": {
   "display_name": "Python 3.9.4 64-bit ('hle': pyenv)",
   "language": "python",
   "name": "python3"
  },
  "language_info": {
   "codemirror_mode": {
    "name": "ipython",
    "version": 3
   },
   "file_extension": ".py",
   "mimetype": "text/x-python",
   "name": "python",
   "nbconvert_exporter": "python",
   "pygments_lexer": "ipython3",
   "version": "3.9.4"
  },
  "orig_nbformat": 4
 },
 "nbformat": 4,
 "nbformat_minor": 2
}
